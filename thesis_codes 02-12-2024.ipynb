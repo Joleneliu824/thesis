cumcount() : https://pandas.pydata.org/docs/reference/api/pandas.core.groupby.DataFrameGroupBy.cumcount.html#pandas.core.groupby.DataFrameGroupBy.cumcount

diff(): https://pandas.pydata.org/docs/reference/api/pandas.DataFrame.diff.html#pandas.DataFrame.diff

Orders by Customer segmentation
Orders by Product Category/Orders by Region/ : https://www.kaggle.com/code/nilufarhosseini/supply-chain-data-analysis-99-accuracy

Oversampling: https://www.kaggle.com/code/janiobachmann/credit-fraud-dealing-with-imbalanced-datasets

Feature selection with RF:https://www.geeksforgeeks.org/feature-selection-using-random-forest/

Out of Fold predictions(OOF):https://www.geeksforgeeks.org/what-is-the-oofout-of-fold-approach/
https://www.kaggle.com/code/andreasbis/isic-2024-out-of-fold-oof-experiment

SMOTE: https://www.kaggle.com/code/kabure/credit-card-fraud-prediction-rf-smote

EDA: https://www.kaggle.com/code/sahilgarg108/supply-chain-eda-fe-training-99
